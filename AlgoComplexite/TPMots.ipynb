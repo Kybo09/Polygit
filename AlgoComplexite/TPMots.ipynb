{
  "cells": [
    {
      "cell_type": "markdown",
      "metadata": {
        "id": "xaItqY_m9Gzk"
      },
      "source": [
        "# TP Algo Noté Mots 💻\n",
        "*Benoit Kezel / Allan Des Courtils*\n",
        "\n",
        "\n",
        "\n",
        "---\n",
        "\n",
        "\n",
        "\n",
        "## Consignes :\n",
        "```\n",
        "Considérez le problème suivant : \n",
        "\n",
        "Soit M un mot du dictionnaire (chaine de caractères). \n",
        "On définit L(M) comme le nombre de caractères différents de M. ex : D(\"Polytech\") = 8, D(\"kayak\") = 3.7\n",
        "\n",
        "Trouvez 5 mots de longueur 5 dont la valeur D de leur concaténation = 25. (5 mots ayant que des caractères distincts).\n",
        "```"
      ]
    },
    {
      "cell_type": "markdown",
      "metadata": {
        "id": "kGe6yspAN3jy"
      },
      "source": [
        "# Solution finale : Les univers\n",
        "\n",
        "On utilise des \"univers\" qui nous permettent de créer une multitude de possibilités. \n",
        "Chaque univers est composé de sa propre liste de mot avec ses propres lettres déjà utilisées.\n",
        "Lorsqu'on traite un mot, on regarde si on peut l'insérer dans un ou plusieurs univers. Si on ne peut l'insérer nul part, on créer un nouvel univers avec ce mot en premier puis on backtrack.\n",
        "\n",
        "Lorsque une combinaison de 4 mots est trouvée au sein d'un univers, on recherche un 5ème mot manquant à partir des lettres disponibles\n",
        "\n",
        "`⏰ Temps d'éxecution moyen : 50 millisecondes`"
      ]
    },
    {
      "cell_type": "code",
      "execution_count": 1,
      "metadata": {
        "colab": {
          "base_uri": "https://localhost:8080/"
        },
        "id": "YDJwRHCc6eqN",
        "outputId": "553555d6-86d5-4bf9-c994-eb727a371d6e"
      },
      "outputs": [
        {
          "name": "stdout",
          "output_type": "stream",
          "text": [
            "Lettres utilisées ['a', 'b', 'c', 'd', 'e', 'f', 'h', 'i', 'j', 'k', 'l', 'm', 'n', 'o', 'p', 'q', 'r', 's', 't', 'u', 'v', 'w', 'x', 'y', 'z']\n",
            "Mots utilisés ['nymph', 'fldxt', 'vejoz', 'quick', 'braws']\n",
            "Temps d'éxecution :  31.04 ms\n"
          ]
        }
      ],
      "source": [
        "import urllib.request as urllib2\n",
        "import ssl\n",
        "import time\n",
        "\n",
        "# Protocole pour récupérer la liste des mots stockée en ligne\n",
        "ssl._create_default_https_context = ssl._create_unverified_context\n",
        "\n",
        "words = []\n",
        "\n",
        "# On récupère la liste des mots triés par rareté (voir bloc Annexe ci-dessous)\n",
        "for line in urllib2.urlopen(\"https://nextcloud.kyserver.fr/s/jSAx23JEz97S25b/download/words5lettersSorted.txt\"):\n",
        "    words.append(str(line.decode(\"utf-8\").strip()))\n",
        "\n",
        "start =  time.time()\n",
        "\n",
        "lettresXmots = dict()\n",
        "\n",
        "# On crée un dictionnaire lettre/mot\n",
        "for word in words:\n",
        "  for letter in word:\n",
        "    if letter not in lettresXmots.keys(): lettresXmots[letter] = [word]\n",
        "    else:  lettresXmots[letter].append(word)\n",
        "\n",
        "universes = []\n",
        "\n",
        "lettersUsed = \"\"\n",
        "wordsUsed = []\n",
        "\n",
        "# On créer un premier univers par défaut\n",
        "universes.append([lettersUsed, wordsUsed])\n",
        "wordsUniverseCreated = []\n",
        "motDeQuatres = dict()\n",
        "\n",
        "findFive = False\n",
        "#Tant que l'on ne trouve pas 5 mots, on reitere\n",
        "while not findFive:\n",
        "  i = 0\n",
        "  while True:\n",
        "      inserted = False\n",
        "      find = False\n",
        "      for universe in universes:\n",
        "          wordOk = True\n",
        "          # Boucle pour vérifier si le mot peut être insérer dans l'univers courant\n",
        "          for letter in words[i]:\n",
        "              if letter in universe[0]:\n",
        "                  wordOk = False\n",
        "                  break\n",
        "          # Si on peut insérer le mot\n",
        "          if(wordOk):\n",
        "              inserted = True\n",
        "              universe[0] += words[i]\n",
        "              universe[1].append(words[i])\n",
        "          # On vérifie si l'univers courant possède désormais le nombre de mots qui nous intéresse (4 dans notre cas)\n",
        "          if len(universe[1]) == 4 and universe[1] not in motDeQuatres.values():\n",
        "              find = True\n",
        "              break\n",
        "\n",
        "      # Si le mot n'a pas été inséré dans aucun univers\n",
        "      if not inserted:\n",
        "          # Si on n'a pas déjà créer un univers pour ce mot\n",
        "          if words[i] not in wordsUniverseCreated:\n",
        "              # On créer un nouvel univers avec ce mot dedans en premier\n",
        "              lettersUsed = words[i]\n",
        "              wordsUsed = [words[i]]\n",
        "              universes.append([lettersUsed, wordsUsed])\n",
        "              wordsUniverseCreated.append(words[i])\n",
        "              # Backtracking, on reparcours les mots depuis le début\n",
        "              i = -1\n",
        "              \n",
        "      # On sauvegarde la première liste de 4 mots\n",
        "      if find:\n",
        "          motDeQuatres[universe[0]] = universe[1]\n",
        "          currentList = universe[0]\n",
        "          break\n",
        "      i += 1\n",
        "\n",
        "\n",
        "  motDeCinq = motDeQuatres[currentList]\n",
        "  lettreUtilise = currentList\n",
        "  # on sauvegarde les lettres manquantes\n",
        "  lettreManquante = list(set(\"abcdefghijklmnopqrst\") - set(lettreUtilise))\n",
        "  # on boucle dessus\n",
        "  for lettre in lettreManquante:\n",
        "    # on parcours les mots contenant la lettre manquante courante\n",
        "    for word in lettresXmots[lettre]:\n",
        "      wordOk = True\n",
        "      for lettre in word:\n",
        "        if lettre in lettreUtilise:\n",
        "          wordOk = False\n",
        "          break\n",
        "      \n",
        "      if wordOk:\n",
        "        lettreUtilise += word\n",
        "        motDeCinq.append(word)\n",
        "        findFive = True\n",
        "        break\n",
        "    if findFive: break\n",
        "\n",
        "end = time.time()\n",
        "print(f\"Lettres utilisées {sorted(lettreUtilise)}\")\n",
        "print(f\"Mots utilisés {motDeCinq}\")\n",
        "print(\"Temps d'éxecution : \", round((end-start)*1000,2), \"ms\")"
      ]
    },
    {
      "cell_type": "markdown",
      "metadata": {
        "id": "G1g65LQXNffp"
      },
      "source": [
        "---\n",
        "# Annexe : Algo de tri des mots par rareté\n",
        "\n",
        "Pour optimiser la solution, nous avons trié les mots par rareté au niveau des lettres qui le compose. \n",
        "\n",
        "Le fichier original n'étant pas dans le collab, il n'est pas possible de l'éxectuer cependant nous l'avons mis pour pouvoir regarder la logique"
      ]
    },
    {
      "cell_type": "code",
      "execution_count": 2,
      "metadata": {
        "colab": {
          "base_uri": "https://localhost:8080/",
          "height": 235
        },
        "id": "JlpFOZOgNh6k",
        "outputId": "be1d4b6b-8cc9-41c6-b0c7-5d84802ae0de"
      },
      "outputs": [
        {
          "ename": "FileNotFoundError",
          "evalue": "[Errno 2] No such file or directory: 'words5letters.txt'",
          "output_type": "error",
          "traceback": [
            "\u001b[1;31m---------------------------------------------------------------------------\u001b[0m",
            "\u001b[1;31mFileNotFoundError\u001b[0m                         Traceback (most recent call last)",
            "Cell \u001b[1;32mIn [2], line 1\u001b[0m\n\u001b[1;32m----> 1\u001b[0m \u001b[39mwith\u001b[39;00m \u001b[39mopen\u001b[39;49m(\u001b[39m'\u001b[39;49m\u001b[39mwords5letters.txt\u001b[39;49m\u001b[39m'\u001b[39;49m, \u001b[39m'\u001b[39;49m\u001b[39mr\u001b[39;49m\u001b[39m'\u001b[39;49m) \u001b[39mas\u001b[39;00m f:\n\u001b[0;32m      2\u001b[0m     \u001b[39mfor\u001b[39;00m line \u001b[39min\u001b[39;00m f:\n\u001b[0;32m      3\u001b[0m         words\u001b[39m.\u001b[39mappend(line\u001b[39m.\u001b[39mstrip())\n",
            "File \u001b[1;32mc:\\Users\\Epulapp\\AppData\\Local\\Programs\\Python\\Python310\\lib\\site-packages\\IPython\\core\\interactiveshell.py:282\u001b[0m, in \u001b[0;36m_modified_open\u001b[1;34m(file, *args, **kwargs)\u001b[0m\n\u001b[0;32m    275\u001b[0m \u001b[39mif\u001b[39;00m file \u001b[39min\u001b[39;00m {\u001b[39m0\u001b[39m, \u001b[39m1\u001b[39m, \u001b[39m2\u001b[39m}:\n\u001b[0;32m    276\u001b[0m     \u001b[39mraise\u001b[39;00m \u001b[39mValueError\u001b[39;00m(\n\u001b[0;32m    277\u001b[0m         \u001b[39mf\u001b[39m\u001b[39m\"\u001b[39m\u001b[39mIPython won\u001b[39m\u001b[39m'\u001b[39m\u001b[39mt let you open fd=\u001b[39m\u001b[39m{\u001b[39;00mfile\u001b[39m}\u001b[39;00m\u001b[39m by default \u001b[39m\u001b[39m\"\u001b[39m\n\u001b[0;32m    278\u001b[0m         \u001b[39m\"\u001b[39m\u001b[39mas it is likely to crash IPython. If you know what you are doing, \u001b[39m\u001b[39m\"\u001b[39m\n\u001b[0;32m    279\u001b[0m         \u001b[39m\"\u001b[39m\u001b[39myou can use builtins\u001b[39m\u001b[39m'\u001b[39m\u001b[39m open.\u001b[39m\u001b[39m\"\u001b[39m\n\u001b[0;32m    280\u001b[0m     )\n\u001b[1;32m--> 282\u001b[0m \u001b[39mreturn\u001b[39;00m io_open(file, \u001b[39m*\u001b[39margs, \u001b[39m*\u001b[39m\u001b[39m*\u001b[39mkwargs)\n",
            "\u001b[1;31mFileNotFoundError\u001b[0m: [Errno 2] No such file or directory: 'words5letters.txt'"
          ]
        }
      ],
      "source": [
        "with open('words5letters.txt', 'r') as f:\n",
        "    for line in f:\n",
        "        words.append(line.strip())\n",
        "\n",
        "frequenceLettre = dict()\n",
        "\n",
        "for word in words:\n",
        "  for letter in word:\n",
        "    if letter not in frequenceLettre.keys(): frequenceLettre[letter] = 1\n",
        "    else: frequenceLettre[letter] += 1\n",
        "\n",
        "def calculateValue(word): return sum([frequenceLettre[l] for l in word])\n",
        "\n",
        "valueWord = list()\n",
        "for word in words:\n",
        "  valueWord.append([word, calculateValue(word)])\n",
        "\n",
        "valueWord.sort(key=lambda x: x[1])\n",
        "words = [v[0] for v in valueWord]"
      ]
    }
  ],
  "metadata": {
    "colab": {
      "collapsed_sections": [],
      "provenance": []
    },
    "kernelspec": {
      "display_name": "Python 3.10.2 64-bit",
      "language": "python",
      "name": "python3"
    },
    "language_info": {
      "codemirror_mode": {
        "name": "ipython",
        "version": 3
      },
      "file_extension": ".py",
      "mimetype": "text/x-python",
      "name": "python",
      "nbconvert_exporter": "python",
      "pygments_lexer": "ipython3",
      "version": "3.10.2"
    },
    "vscode": {
      "interpreter": {
        "hash": "3ca58785a30343a88e0a169df732a71455d5df5ac07a192b6eccd287b4449a74"
      }
    }
  },
  "nbformat": 4,
  "nbformat_minor": 0
}
